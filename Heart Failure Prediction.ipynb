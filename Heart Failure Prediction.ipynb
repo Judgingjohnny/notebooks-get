{
    "cells": [
        {
            "cell_type": "markdown",
            "metadata": {},
            "source": "DESCRIPTION\n\nHeart Failure Prediction Dataset"
        },
        {
            "cell_type": "code",
            "execution_count": 1,
            "metadata": {},
            "outputs": [
                {
                    "name": "stdout",
                    "output_type": "stream",
                    "text": "+---+---+-------------+---------+-----------+---------+----------+-----+--------------+-------+--------+------------+\n|Age|Sex|ChestPainType|RestingBP|Cholesterol|FastingBS|RestingECG|MaxHR|ExerciseAngina|Oldpeak|ST_Slope|HeartDisease|\n+---+---+-------------+---------+-----------+---------+----------+-----+--------------+-------+--------+------------+\n| 40|  M|          ATA|      140|        289|        0|    Normal|  172|             N|    0.0|      Up|           0|\n| 49|  F|          NAP|      160|        180|        0|    Normal|  156|             N|    1.0|    Flat|           1|\n| 37|  M|          ATA|      130|        283|        0|        ST|   98|             N|    0.0|      Up|           0|\n| 48|  F|          ASY|      138|        214|        0|    Normal|  108|             Y|    1.5|    Flat|           1|\n| 54|  M|          NAP|      150|        195|        0|    Normal|  122|             N|    0.0|      Up|           0|\n+---+---+-------------+---------+-----------+---------+----------+-----+--------------+-------+--------+------------+\nonly showing top 5 rows\n\n"
                },
                {
                    "data": {
                        "text/plain": "configurationName = os_6c8f1fe2b31646a9b9ed54fccb67b9ef_configs\nendpoint_6c8f1fe2b31646a9b9ed54fccb67b9ef = https://s3.private.us.cloud-object-storage.appdomain.cloud\ncos = com.ibm.ibmos2spark.CloudObjectStorage@cde7c0d8\nspark = org.apache.spark.sql.SparkSession@e8434d98\ndfData1 = [Age: int, Sex: string ... 10 more fields]\n"
                    },
                    "metadata": {},
                    "output_type": "display_data"
                },
                {
                    "data": {
                        "text/plain": "getCredentials: ()scala.collection.mutable.HashMap[String,String]\n"
                    },
                    "metadata": {},
                    "output_type": "display_data"
                },
                {
                    "data": {
                        "text/plain": "[Age: int, Sex: string ... 10 more fields]"
                    },
                    "execution_count": 1,
                    "metadata": {},
                    "output_type": "execute_result"
                }
            ],
            "source": "// The code was removed by Watson Studio for sharing."
        },
        {
            "cell_type": "code",
            "execution_count": null,
            "metadata": {},
            "outputs": [],
            "source": ""
        }
    ],
    "metadata": {
        "kernelspec": {
            "display_name": "Scala 2.12 with Spark",
            "language": "scala",
            "name": "scala"
        },
        "language_info": {
            "codemirror_mode": "text/x-scala",
            "file_extension": ".scala",
            "mimetype": "text/x-scala",
            "name": "scala",
            "pygments_lexer": "scala",
            "version": "2.12.12"
        }
    },
    "nbformat": 4,
    "nbformat_minor": 1
}